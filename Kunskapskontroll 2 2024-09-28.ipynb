{
 "cells": [
  {
   "cell_type": "markdown",
   "id": "ec813ada",
   "metadata": {},
   "source": [
    "# Kunskapskontroll 2 - köra skript\n",
    "Namn: Nil Abukar"
   ]
  },
  {
   "cell_type": "code",
   "execution_count": 6,
   "id": "3dfe57c1",
   "metadata": {},
   "outputs": [
    {
     "name": "stdout",
     "output_type": "stream",
     "text": [
      "Requirement already satisfied: pyodbc in c:\\users\\nilab\\anaconda3\\lib\\site-packages (4.0.34)\n",
      "Note: you may need to restart the kernel to use updated packages.\n"
     ]
    }
   ],
   "source": [
    "pip install pyodbc"
   ]
  },
  {
   "cell_type": "code",
   "execution_count": 22,
   "id": "e01b5d23",
   "metadata": {},
   "outputs": [
    {
     "name": "stdout",
     "output_type": "stream",
     "text": [
      "Data från API har hämtats:\n",
      "Data har bearbetats!\n"
     ]
    }
   ],
   "source": [
    "import requests\n",
    "import pyodbc\n",
    "\n",
    "# Hämtar data från en API och retunerar den i JSON-format och loggar eventuella fel.\n",
    "def fetch_data_from_api():\n",
    "    try:\n",
    "        response = requests.get('https://jsonplaceholder.typicode.com/todos/1')\n",
    "        if response.status_code == 200:\n",
    "            data = response.json()\n",
    "            print('Data från API har hämtats:')\n",
    "            return data\n",
    "        else:\n",
    "            print(f'Fel vid API-anrop: {response.status_code}')\n",
    "            return None\n",
    "    except Exception as e:\n",
    "        log_error(f'Fel vid hämtning av data från API: {e}')\n",
    "        return None\n",
    "\n",
    "# Formaterar och validerar data    \n",
    "def process_data(data):\n",
    "    try:\n",
    "        title = data['title'].strip().lower() \n",
    "        completed = int(data['completed'])  \n",
    "\n",
    "        if validate_data(title, completed):\n",
    "            print(\"Data har bearbetats!\")\n",
    "            return title, completed\n",
    "        else:\n",
    "            return None\n",
    "    except Exception as e:\n",
    "        log_error(f\"Fel vid bearbetning av data: {e}\")\n",
    "        return None\n",
    "    \n",
    "def validate_data(title, completed):\n",
    "    if not isinstance(title, str) or not title:\n",
    "        log_error(\"Ogiltig titel!\")\n",
    "        return False\n",
    "    if completed not in (0, 1):\n",
    "        log_error(\"Ogiltigt värde för completed!\")\n",
    "        return False\n",
    "    return True\n",
    "\n",
    "# Kontrollerar om titeln redan finns i databasen och loggar ett meddelande om det finns en dubletter.\n",
    "def check_duplicate(title):\n",
    "    conn = create_connection()\n",
    "    cursor = conn.cursor()\n",
    "    cursor.execute('SELECT COUNT(*) FROM todos WHERE title = ?', (title,))\n",
    "    exists = cursor.fetchone()[0] > 0\n",
    "    conn.close()\n",
    "    return exists\n",
    "\n",
    "def log_error(error_message):\n",
    "    with open('error_log.txt', 'a') as log_file:\n",
    "        log_file.write(error_message + '\\n')\n",
    "\n",
    "# Skapar en anslutning till SQL server och skapar en tabell om den inte redan finns. En bearbetat data läggs till i databasen om det inte finns dubbletter.        \n",
    "def create_connection():\n",
    "    conn = pyodbc.connect(\n",
    "        'Driver={SQL Server};'\n",
    "        'Server=RAQI;'\n",
    "        'Database=raqis_database;'\n",
    "        'Trusted_Connection=yes;'\n",
    "    )\n",
    "    return conn\n",
    "\n",
    "def create_table(conn):\n",
    "    cursor = conn.cursor()\n",
    "    cursor.execute('''\n",
    "        IF NOT EXISTS (SELECT * FROM sysobjects WHERE name='todos' AND xtype='U')\n",
    "        BEGIN\n",
    "            CREATE TABLE todos (\n",
    "                id INT IDENTITY(1,1) PRIMARY KEY,\n",
    "                title NVARCHAR(255),\n",
    "                completed BIT\n",
    "            )\n",
    "        END\n",
    "    ''')\n",
    "    conn.commit()\n",
    "\n",
    "def update_database(processed_data):\n",
    "    title, completed_value = processed_data\n",
    "    if check_duplicate(title):\n",
    "        log_error(f\"Dubblett hittad för titeln: {title}\")\n",
    "        return  # Avbryt om dubblett finns\n",
    "\n",
    "    conn = create_connection()\n",
    "    cursor = conn.cursor()\n",
    "    cursor.execute('INSERT INTO todos (title, completed) VALUES (?, ?)', (title, completed_value))\n",
    "    conn.commit()\n",
    "    conn.close()\n",
    "\n",
    "if __name__ == '__main__':\n",
    "    conn = create_connection()\n",
    "    create_table(conn)\n",
    "    conn.close()\n",
    "    \n",
    "    data = fetch_data_from_api()\n",
    "    if data is not None:\n",
    "        processed_data = process_data(data)\n",
    "        if processed_data is not None:\n",
    "            update_database(processed_data)\n"
   ]
  },
  {
   "cell_type": "markdown",
   "id": "ff7e6892",
   "metadata": {},
   "source": [
    "# Automatiserade test uppdateringar"
   ]
  },
  {
   "cell_type": "code",
   "execution_count": 12,
   "id": "3c5e1349",
   "metadata": {
    "scrolled": true
   },
   "outputs": [
    {
     "name": "stdout",
     "output_type": "stream",
     "text": [
      "Requirement already satisfied: pytest in c:\\users\\nilab\\anaconda3\\lib\\site-packages (7.4.0)\n",
      "Requirement already satisfied: iniconfig in c:\\users\\nilab\\anaconda3\\lib\\site-packages (from pytest) (1.1.1)\n",
      "Requirement already satisfied: packaging in c:\\users\\nilab\\anaconda3\\lib\\site-packages (from pytest) (23.0)\n",
      "Requirement already satisfied: pluggy<2.0,>=0.12 in c:\\users\\nilab\\anaconda3\\lib\\site-packages (from pytest) (1.0.0)\n",
      "Requirement already satisfied: colorama in c:\\users\\nilab\\anaconda3\\lib\\site-packages (from pytest) (0.4.6)\n",
      "Note: you may need to restart the kernel to use updated packages.\n"
     ]
    }
   ],
   "source": [
    "pip install pytest"
   ]
  },
  {
   "cell_type": "code",
   "execution_count": 18,
   "id": "729c0856",
   "metadata": {
    "scrolled": true
   },
   "outputs": [
    {
     "name": "stdout",
     "output_type": "stream",
     "text": [
      "True\n"
     ]
    }
   ],
   "source": [
    "import sys\n",
    "import os \n",
    "print(os.path.isfile(r'C:\\Users\\nilab\\Documents\\process_data.py'))"
   ]
  },
  {
   "cell_type": "code",
   "execution_count": null,
   "id": "10a1a4e3",
   "metadata": {},
   "outputs": [],
   "source": [
    "# Unitest har använts för att säkerställa att funktionerna fungerar som förväntat. Dessa tester kontrollerar att datahämtningen, bearbetning, validering och databasuppdatering finns med.\n",
    "import unittest\n",
    "from process_data import fetch_data_from_api, process_data, update_database, create_connection, validate_data\n",
    "\n",
    "class TestYourScript(unittest.TestCase):\n",
    "\n",
    "    def test_fetch_data(self):\n",
    "        data = fetch_data_from_api()\n",
    "        self.assertIsNotNone(data)\n",
    "        self.assertIn('title', data)\n",
    "        self.assertIn('completed', data)\n",
    "\n",
    "    def test_process_data(self):\n",
    "        data = {'title': ' Test Title ', 'completed': True}\n",
    "        processed_data = process_data(data)\n",
    "        self.assertEqual(processed_data[0], 'test title')  # Kontrollera att titeln är formaterad korrekt\n",
    "        self.assertEqual(processed_data[1], 1)  # Kontrollera att completed är int (1)\n",
    "\n",
    "    def test_validate_data(self):\n",
    "        self.assertTrue(validate_data('Valid Title', 1))\n",
    "        self.assertFalse(validate_data('', 1))  # Ogiltig titel\n",
    "        self.assertFalse(validate_data('Valid Title', 2))  # Ogiltigt värde för completed\n",
    "\n",
    "    def test_update_database(self):\n",
    "        processed_data = ('Test Title', 1)  # Datan som ska uppdateras\n",
    "        update_database(processed_data)  # Anropa funktionen för att uppdatera databasen\n",
    "        \n",
    "        # Kontrollerar att datan har lagts till i databasen\n",
    "        conn = create_connection()\n",
    "        cursor = conn.cursor()\n",
    "        cursor.execute('SELECT * FROM todos WHERE title = ?', (processed_data[0],))\n",
    "        result = cursor.fetchone()\n",
    "        conn.close()\n",
    "        \n",
    "        self.assertIsNotNone(result)  # Kontrollera att resultatet inte är None\n",
    "        self.assertEqual(result[1], 'Test Title')  # Kontrollera att titeln är korrekt\n",
    "        self.assertEqual(result[2], 1)  # Kontrollera att completed är True (1 i SQL)\n",
    "\n",
    "if __name__ == '__main__':\n",
    "    unittest.main()"
   ]
  }
 ],
 "metadata": {
  "kernelspec": {
   "display_name": "Python 3 (ipykernel)",
   "language": "python",
   "name": "python3"
  },
  "language_info": {
   "codemirror_mode": {
    "name": "ipython",
    "version": 3
   },
   "file_extension": ".py",
   "mimetype": "text/x-python",
   "name": "python",
   "nbconvert_exporter": "python",
   "pygments_lexer": "ipython3",
   "version": "3.11.4"
  }
 },
 "nbformat": 4,
 "nbformat_minor": 5
}
